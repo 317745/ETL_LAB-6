{
 "cells": [
  {
   "cell_type": "code",
   "execution_count": 154,
   "id": "0e35d7f4",
   "metadata": {},
   "outputs": [],
   "source": [
    "import pandas as pd\n",
    "import glob\n",
    "import openpyxl\n",
    "\n",
    "import matplotlib.pyplot as plt\n",
    "import numpy as np"
   ]
  },
  {
   "cell_type": "code",
   "execution_count": 155,
   "id": "f7bbff0d",
   "metadata": {},
   "outputs": [],
   "source": [
    "def readCsvDf(dir, fileName=None):\n",
    "    try: \n",
    "        if dir.endswith('.csv'):\n",
    "            filesValidation = glob.glob(dir, recursive=False)\n",
    "            df = pd.read_csv(filesValidation[0])\n",
    "\n",
    "            return {\n",
    "                'ok': True,\n",
    "                'data': df, \n",
    "                'msg': f'The DataFrame extraction was successful'\n",
    "            }\n",
    "\n",
    "        elif fileName is None:\n",
    "            filesValidation = glob.glob(f'{dir}/*', recursive=False)\n",
    "            df = pd.read_csv(filesValidation[0])\n",
    "\n",
    "            return {\n",
    "                'ok': True,\n",
    "                'data': df, \n",
    "                'msg': f'The file name was not provided, so the chosen dataset is {filesValidation[0]}'\n",
    "            }\n",
    "\n",
    "        fileValidation = glob.glob(f'{dir}/{fileName}', recursive=False)\n",
    "        df = pd.read_csv(fileValidation[0])\n",
    "        return {\n",
    "            'ok': True,\n",
    "            'data': df, \n",
    "            'msg': 'The DataFrame extraction was successful'\n",
    "        }\n",
    "    \n",
    "    except Exception as e:\n",
    "        return {\n",
    "            'ok': False, \n",
    "            'data': None,\n",
    "            'msg': f'There is no CSV file named {fileName}'\n",
    "        }"
   ]
  },
  {
   "cell_type": "code",
   "execution_count": 159,
   "id": "26ade5e2",
   "metadata": {},
   "outputs": [],
   "source": [
    "readCsvRes = readCsvDf('data', 'retail_data.csv')\n",
    "\n",
    "df = readCsvRes['data'].copy()\n",
    "\n",
    "dfDescription = df.describe(include = 'all')\n",
    "\n",
    "dfDescription.to_excel('data/tables/describeDf.xlsx', sheet_name='si', engine= 'openpyxl')\n"
   ]
  },
  {
   "cell_type": "code",
   "execution_count": 160,
   "id": "c82c0659",
   "metadata": {},
   "outputs": [],
   "source": [
    "df['purchase_date'] = pd.to_datetime(df['purchase_date'], format = \"%Y-%m-%d\")"
   ]
  },
  {
   "cell_type": "code",
   "execution_count": 165,
   "id": "8c376be8",
   "metadata": {},
   "outputs": [
    {
     "data": {
      "application/vnd.microsoft.datawrangler.viewer.v0+json": {
       "columns": [
        {
         "name": "index",
         "rawType": "int64",
         "type": "integer"
        },
        {
         "name": "Purchase_date",
         "rawType": "datetime64[ns]",
         "type": "datetime"
        },
        {
         "name": "Count",
         "rawType": "int64",
         "type": "integer"
        }
       ],
       "ref": "3772c928-81fc-4f63-ad00-36459446298f",
       "rows": [
        [
         "239",
         "2025-08-23 00:00:00",
         "1"
        ],
        [
         "216",
         "2025-02-14 00:00:00",
         "1"
        ],
        [
         "218",
         "2025-05-20 00:00:00",
         "1"
        ],
        [
         "217",
         "2025-07-24 00:00:00",
         "1"
        ],
        [
         "220",
         "2025-07-10 00:00:00",
         "1"
        ],
        [
         "223",
         "2025-04-26 00:00:00",
         "1"
        ],
        [
         "221",
         "2025-03-12 00:00:00",
         "1"
        ],
        [
         "219",
         "2025-03-26 00:00:00",
         "1"
        ],
        [
         "215",
         "2025-09-15 00:00:00",
         "1"
        ],
        [
         "213",
         "2025-04-04 00:00:00",
         "1"
        ],
        [
         "214",
         "2025-08-26 00:00:00",
         "1"
        ],
        [
         "228",
         "2025-09-13 00:00:00",
         "1"
        ],
        [
         "243",
         "2025-01-28 00:00:00",
         "1"
        ],
        [
         "242",
         "2025-07-09 00:00:00",
         "1"
        ],
        [
         "241",
         "2025-09-17 00:00:00",
         "1"
        ],
        [
         "222",
         "2025-02-25 00:00:00",
         "1"
        ],
        [
         "231",
         "2025-09-12 00:00:00",
         "1"
        ],
        [
         "238",
         "2025-04-10 00:00:00",
         "1"
        ],
        [
         "237",
         "2025-04-19 00:00:00",
         "1"
        ],
        [
         "236",
         "2025-05-01 00:00:00",
         "1"
        ],
        [
         "235",
         "2025-06-29 00:00:00",
         "1"
        ],
        [
         "234",
         "2025-02-12 00:00:00",
         "1"
        ],
        [
         "233",
         "2025-04-22 00:00:00",
         "1"
        ],
        [
         "232",
         "2025-02-02 00:00:00",
         "1"
        ],
        [
         "227",
         "2025-07-16 00:00:00",
         "1"
        ],
        [
         "230",
         "2025-08-28 00:00:00",
         "1"
        ],
        [
         "229",
         "2025-06-11 00:00:00",
         "1"
        ],
        [
         "224",
         "2025-01-31 00:00:00",
         "1"
        ],
        [
         "225",
         "2025-02-26 00:00:00",
         "1"
        ],
        [
         "226",
         "2025-03-09 00:00:00",
         "1"
        ],
        [
         "240",
         "2025-09-16 00:00:00",
         "1"
        ],
        [
         "160",
         "2025-07-05 00:00:00",
         "2"
        ],
        [
         "158",
         "2025-05-30 00:00:00",
         "2"
        ],
        [
         "161",
         "2025-07-06 00:00:00",
         "2"
        ],
        [
         "162",
         "2025-03-15 00:00:00",
         "2"
        ],
        [
         "163",
         "2025-03-06 00:00:00",
         "2"
        ],
        [
         "164",
         "2025-02-03 00:00:00",
         "2"
        ],
        [
         "165",
         "2025-01-24 00:00:00",
         "2"
        ],
        [
         "166",
         "2025-04-15 00:00:00",
         "2"
        ],
        [
         "167",
         "2025-08-22 00:00:00",
         "2"
        ],
        [
         "168",
         "2025-02-13 00:00:00",
         "2"
        ],
        [
         "169",
         "2025-05-05 00:00:00",
         "2"
        ],
        [
         "170",
         "2025-06-23 00:00:00",
         "2"
        ],
        [
         "171",
         "2025-02-21 00:00:00",
         "2"
        ],
        [
         "172",
         "2025-08-21 00:00:00",
         "2"
        ],
        [
         "173",
         "2025-07-30 00:00:00",
         "2"
        ],
        [
         "174",
         "2025-07-04 00:00:00",
         "2"
        ],
        [
         "175",
         "2025-05-08 00:00:00",
         "2"
        ],
        [
         "176",
         "2025-09-11 00:00:00",
         "2"
        ],
        [
         "177",
         "2025-04-09 00:00:00",
         "2"
        ]
       ],
       "shape": {
        "columns": 2,
        "rows": 244
       }
      },
      "text/html": [
       "<div>\n",
       "<style scoped>\n",
       "    .dataframe tbody tr th:only-of-type {\n",
       "        vertical-align: middle;\n",
       "    }\n",
       "\n",
       "    .dataframe tbody tr th {\n",
       "        vertical-align: top;\n",
       "    }\n",
       "\n",
       "    .dataframe thead th {\n",
       "        text-align: right;\n",
       "    }\n",
       "</style>\n",
       "<table border=\"1\" class=\"dataframe\">\n",
       "  <thead>\n",
       "    <tr style=\"text-align: right;\">\n",
       "      <th></th>\n",
       "      <th>Purchase_date</th>\n",
       "      <th>Count</th>\n",
       "    </tr>\n",
       "  </thead>\n",
       "  <tbody>\n",
       "    <tr>\n",
       "      <th>239</th>\n",
       "      <td>2025-08-23</td>\n",
       "      <td>1</td>\n",
       "    </tr>\n",
       "    <tr>\n",
       "      <th>216</th>\n",
       "      <td>2025-02-14</td>\n",
       "      <td>1</td>\n",
       "    </tr>\n",
       "    <tr>\n",
       "      <th>218</th>\n",
       "      <td>2025-05-20</td>\n",
       "      <td>1</td>\n",
       "    </tr>\n",
       "    <tr>\n",
       "      <th>217</th>\n",
       "      <td>2025-07-24</td>\n",
       "      <td>1</td>\n",
       "    </tr>\n",
       "    <tr>\n",
       "      <th>220</th>\n",
       "      <td>2025-07-10</td>\n",
       "      <td>1</td>\n",
       "    </tr>\n",
       "    <tr>\n",
       "      <th>...</th>\n",
       "      <td>...</td>\n",
       "      <td>...</td>\n",
       "    </tr>\n",
       "    <tr>\n",
       "      <th>7</th>\n",
       "      <td>2025-02-28</td>\n",
       "      <td>7</td>\n",
       "    </tr>\n",
       "    <tr>\n",
       "      <th>1</th>\n",
       "      <td>2025-02-08</td>\n",
       "      <td>8</td>\n",
       "    </tr>\n",
       "    <tr>\n",
       "      <th>2</th>\n",
       "      <td>2025-06-06</td>\n",
       "      <td>8</td>\n",
       "    </tr>\n",
       "    <tr>\n",
       "      <th>3</th>\n",
       "      <td>2025-01-12</td>\n",
       "      <td>8</td>\n",
       "    </tr>\n",
       "    <tr>\n",
       "      <th>0</th>\n",
       "      <td>NaT</td>\n",
       "      <td>24</td>\n",
       "    </tr>\n",
       "  </tbody>\n",
       "</table>\n",
       "<p>244 rows × 2 columns</p>\n",
       "</div>"
      ],
      "text/plain": [
       "    Purchase_date  Count\n",
       "239    2025-08-23      1\n",
       "216    2025-02-14      1\n",
       "218    2025-05-20      1\n",
       "217    2025-07-24      1\n",
       "220    2025-07-10      1\n",
       "..            ...    ...\n",
       "7      2025-02-28      7\n",
       "1      2025-02-08      8\n",
       "2      2025-06-06      8\n",
       "3      2025-01-12      8\n",
       "0             NaT     24\n",
       "\n",
       "[244 rows x 2 columns]"
      ]
     },
     "execution_count": 165,
     "metadata": {},
     "output_type": "execute_result"
    }
   ],
   "source": [
    "valuesAmount = df['amount'].value_counts(dropna = False).reset_index()\n",
    "valuesAmount.columns = ['Amount', 'Count']\n",
    "valuesAmount.sort_values(by=['Count'])\n",
    "\n",
    "valuesCostumerID = df['customer_id'].value_counts(dropna = False).reset_index()\n",
    "valuesCostumerID.columns = ['Customer_id', 'Count']\n",
    "valuesCostumerID.sort_values(by=['Count'])\n",
    "\n",
    "valuesID = df['id'].value_counts(dropna = False).reset_index()\n",
    "valuesID.columns = ['ID', 'Count']\n",
    "valuesID.sort_values(by=['Count'])\n",
    "\n",
    "valuesProductsCategory = df['product_category'].value_counts(dropna = False).reset_index()\n",
    "valuesProductsCategory.columns = ['Product_category', 'Count']\n",
    "valuesProductsCategory.sort_values(by=['Count'])\n",
    "\n",
    "valuesPurchaseDate = df['purchase_date'].value_counts(dropna = False).reset_index()\n",
    "valuesPurchaseDate.columns = ['Purchase_date', 'Count']\n",
    "valuesPurchaseDate.sort_values(by=['Count'])"
   ]
  },
  {
   "cell_type": "code",
   "execution_count": 166,
   "id": "90b59216",
   "metadata": {},
   "outputs": [
    {
     "data": {
      "application/vnd.microsoft.datawrangler.viewer.v0+json": {
       "columns": [
        {
         "name": "index",
         "rawType": "int64",
         "type": "integer"
        },
        {
         "name": "Customer_id",
         "rawType": "int64",
         "type": "integer"
        },
        {
         "name": "Count",
         "rawType": "int64",
         "type": "integer"
        }
       ],
       "ref": "4028ad07-282f-4b1e-adff-399247e145ad",
       "rows": [
        [
         "0",
         "1058",
         "16"
        ],
        [
         "1",
         "1060",
         "16"
        ],
        [
         "2",
         "1078",
         "16"
        ],
        [
         "3",
         "1028",
         "15"
        ],
        [
         "4",
         "1061",
         "14"
        ],
        [
         "5",
         "1047",
         "14"
        ],
        [
         "6",
         "1053",
         "14"
        ],
        [
         "7",
         "1048",
         "14"
        ],
        [
         "8",
         "1021",
         "13"
        ],
        [
         "9",
         "1082",
         "12"
        ],
        [
         "10",
         "1095",
         "12"
        ],
        [
         "11",
         "1027",
         "12"
        ],
        [
         "12",
         "1073",
         "12"
        ],
        [
         "13",
         "1005",
         "12"
        ],
        [
         "14",
         "1066",
         "11"
        ],
        [
         "15",
         "1049",
         "11"
        ],
        [
         "16",
         "1037",
         "11"
        ],
        [
         "17",
         "1068",
         "11"
        ],
        [
         "18",
         "1057",
         "11"
        ],
        [
         "19",
         "1024",
         "11"
        ],
        [
         "20",
         "1018",
         "10"
        ],
        [
         "21",
         "1038",
         "9"
        ],
        [
         "22",
         "1056",
         "9"
        ],
        [
         "23",
         "1093",
         "9"
        ],
        [
         "24",
         "1026",
         "9"
        ],
        [
         "25",
         "1064",
         "9"
        ],
        [
         "26",
         "1079",
         "9"
        ],
        [
         "27",
         "1096",
         "9"
        ],
        [
         "28",
         "1012",
         "9"
        ],
        [
         "29",
         "1020",
         "9"
        ],
        [
         "30",
         "1032",
         "9"
        ],
        [
         "31",
         "1002",
         "9"
        ],
        [
         "32",
         "1072",
         "9"
        ],
        [
         "33",
         "1019",
         "9"
        ],
        [
         "34",
         "1086",
         "9"
        ],
        [
         "35",
         "1091",
         "9"
        ],
        [
         "36",
         "1075",
         "9"
        ],
        [
         "37",
         "1074",
         "9"
        ],
        [
         "38",
         "1065",
         "9"
        ],
        [
         "39",
         "1042",
         "9"
        ],
        [
         "40",
         "1035",
         "9"
        ],
        [
         "41",
         "1034",
         "8"
        ],
        [
         "42",
         "1077",
         "8"
        ],
        [
         "43",
         "1009",
         "8"
        ],
        [
         "44",
         "1044",
         "8"
        ],
        [
         "45",
         "1011",
         "8"
        ],
        [
         "46",
         "1016",
         "8"
        ],
        [
         "47",
         "1067",
         "8"
        ],
        [
         "48",
         "1031",
         "8"
        ],
        [
         "49",
         "1040",
         "8"
        ]
       ],
       "shape": {
        "columns": 2,
        "rows": 100
       }
      },
      "text/html": [
       "<div>\n",
       "<style scoped>\n",
       "    .dataframe tbody tr th:only-of-type {\n",
       "        vertical-align: middle;\n",
       "    }\n",
       "\n",
       "    .dataframe tbody tr th {\n",
       "        vertical-align: top;\n",
       "    }\n",
       "\n",
       "    .dataframe thead th {\n",
       "        text-align: right;\n",
       "    }\n",
       "</style>\n",
       "<table border=\"1\" class=\"dataframe\">\n",
       "  <thead>\n",
       "    <tr style=\"text-align: right;\">\n",
       "      <th></th>\n",
       "      <th>Customer_id</th>\n",
       "      <th>Count</th>\n",
       "    </tr>\n",
       "  </thead>\n",
       "  <tbody>\n",
       "    <tr>\n",
       "      <th>0</th>\n",
       "      <td>1058</td>\n",
       "      <td>16</td>\n",
       "    </tr>\n",
       "    <tr>\n",
       "      <th>1</th>\n",
       "      <td>1060</td>\n",
       "      <td>16</td>\n",
       "    </tr>\n",
       "    <tr>\n",
       "      <th>2</th>\n",
       "      <td>1078</td>\n",
       "      <td>16</td>\n",
       "    </tr>\n",
       "    <tr>\n",
       "      <th>3</th>\n",
       "      <td>1028</td>\n",
       "      <td>15</td>\n",
       "    </tr>\n",
       "    <tr>\n",
       "      <th>4</th>\n",
       "      <td>1061</td>\n",
       "      <td>14</td>\n",
       "    </tr>\n",
       "    <tr>\n",
       "      <th>...</th>\n",
       "      <td>...</td>\n",
       "      <td>...</td>\n",
       "    </tr>\n",
       "    <tr>\n",
       "      <th>95</th>\n",
       "      <td>1094</td>\n",
       "      <td>4</td>\n",
       "    </tr>\n",
       "    <tr>\n",
       "      <th>96</th>\n",
       "      <td>1030</td>\n",
       "      <td>3</td>\n",
       "    </tr>\n",
       "    <tr>\n",
       "      <th>97</th>\n",
       "      <td>1071</td>\n",
       "      <td>3</td>\n",
       "    </tr>\n",
       "    <tr>\n",
       "      <th>98</th>\n",
       "      <td>1069</td>\n",
       "      <td>3</td>\n",
       "    </tr>\n",
       "    <tr>\n",
       "      <th>99</th>\n",
       "      <td>1051</td>\n",
       "      <td>2</td>\n",
       "    </tr>\n",
       "  </tbody>\n",
       "</table>\n",
       "<p>100 rows × 2 columns</p>\n",
       "</div>"
      ],
      "text/plain": [
       "    Customer_id  Count\n",
       "0          1058     16\n",
       "1          1060     16\n",
       "2          1078     16\n",
       "3          1028     15\n",
       "4          1061     14\n",
       "..          ...    ...\n",
       "95         1094      4\n",
       "96         1030      3\n",
       "97         1071      3\n",
       "98         1069      3\n",
       "99         1051      2\n",
       "\n",
       "[100 rows x 2 columns]"
      ]
     },
     "execution_count": 166,
     "metadata": {},
     "output_type": "execute_result"
    }
   ],
   "source": [
    "valuesAmount\n",
    "valuesID\n",
    "valuesProductsCategory\n",
    "valuesPurchaseDate\n",
    "valuesCostumerID"
   ]
  },
  {
   "cell_type": "code",
   "execution_count": 167,
   "id": "ec7c36f9",
   "metadata": {},
   "outputs": [
    {
     "data": {
      "image/png": "[encoded data removed]",
      "text/plain": [
       "<Figure size 700x400 with 1 Axes>"
      ]
     },
     "metadata": {},
     "output_type": "display_data"
    }
   ],
   "source": [
    "fig, ax = plt.subplots(figsize=(7, 4))\n",
    "ax.hist(df['product_category'].astype(str))\n",
    "plt.show()\n"
   ]
  },
  {
   "cell_type": "code",
   "execution_count": 168,
   "id": "e3fd4947",
   "metadata": {},
   "outputs": [
    {
     "data": {
      "image/png": "[encoded data removed]",
      "text/plain": [
       "<Figure size 1000x500 with 1 Axes>"
      ]
     },
     "metadata": {},
     "output_type": "display_data"
    }
   ],
   "source": [
    "dateGroupedMonth = valuesPurchaseDate.groupby(pd.Grouper(key='Purchase_date', freq='ME')).sum().reset_index()\n",
    "\n",
    "fig, ax = plt.subplots(figsize=(10, 5))\n",
    "ax.scatter(dateGroupedMonth['Purchase_date'].astype(str), dateGroupedMonth['Count'])\n",
    "ax.plot(dateGroupedMonth['Purchase_date'].astype(str), dateGroupedMonth['Count'])\n",
    "ax.set_ylabel('Sells')\n",
    "ax.set_xlabel('Date grouped by month')\n",
    "ax.set_title('Sells by month in the year 2025')\n",
    "plt.show()\n"
   ]
  }
 ],
 "metadata": {
  "kernelspec": {
   "display_name": ".venvDillan",
   "language": "python",
   "name": ".venvdillan"
  },
  "language_info": {
   "codemirror_mode": {
    "name": "ipython",
    "version": 3
   },
   "file_extension": ".py",
   "mimetype": "text/x-python",
   "name": "python",
   "nbconvert_exporter": "python",
   "pygments_lexer": "ipython3",
   "version": "3.12.3"
  }
 },
 "nbformat": 4,
 "nbformat_minor": 5
}
