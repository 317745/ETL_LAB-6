{
 "cells": [
  {
   "cell_type": "code",
   "execution_count": 30,
   "id": "0e35d7f4",
   "metadata": {},
   "outputs": [],
   "source": [
    "import pandas as pd\n",
    "import glob\n",
    "import openpyxl"
   ]
  },
  {
   "cell_type": "code",
   "execution_count": 37,
   "id": "f7bbff0d",
   "metadata": {},
   "outputs": [],
   "source": [
    "def readCsvDf(dir, fileName=None):\n",
    "    try: \n",
    "        if dir.endswith('.csv'):\n",
    "            filesValidation = glob.glob(dir, recursive=False)\n",
    "            df = pd.read_csv(filesValidation[0])\n",
    "\n",
    "            return {\n",
    "                'ok': True,\n",
    "                'data': df, \n",
    "                'msg': f'The DataFrame extraction was successful'\n",
    "            }\n",
    "\n",
    "        elif fileName is None:\n",
    "            filesValidation = glob.glob(f'{dir}/*', recursive=False)\n",
    "            df = pd.read_csv(filesValidation[0])\n",
    "\n",
    "            return {\n",
    "                'ok': True,\n",
    "                'data': df, \n",
    "                'msg': f'The file name was not provided, so the chosen dataset is {filesValidation[0]}'\n",
    "            }\n",
    "\n",
    "        fileValidation = glob.glob(f'{dir}/{fileName}', recursive=False)\n",
    "        df = pd.read_csv(fileValidation[0])\n",
    "        return {\n",
    "            'ok': True,\n",
    "            'data': df, \n",
    "            'msg': 'The DataFrame extraction was successful'\n",
    "        }\n",
    "    \n",
    "    except Exception as e:\n",
    "        return {\n",
    "            'ok': False, \n",
    "            'data': None,\n",
    "            'msg': f'There is no CSV file named {fileName}'\n",
    "        }"
   ]
  },
  {
   "cell_type": "code",
   "execution_count": 38,
   "id": "26ade5e2",
   "metadata": {},
   "outputs": [],
   "source": [
    "readCsvRes = readCsvDf('data', 'retail_data.csv')\n",
    "\n",
    "df = readCsvRes['data'].copy()\n",
    "\n",
    "dfDescription = df.describe(include = 'all')\n",
    "\n",
    "dfDescription.to_excel('data/tables/describeDf.xlsx', sheet_name='si', engine= 'openpyxl')\n"
   ]
  },
  {
   "cell_type": "code",
   "execution_count": 39,
   "id": "8c376be8",
   "metadata": {},
   "outputs": [],
   "source": [
    "valuesAmount = df['amount'].value_counts(dropna = False).reset_index()\n",
    "valuesAmount.columns = ['Amount', 'Count']\n",
    "\n",
    "valuesCostumerID = df['customer_id'].value_counts(dropna = False).reset_index()\n",
    "valuesCostumerID.columns = ['Customer_id', 'Count']\n",
    "\n",
    "valuesID = df['id'].value_counts(dropna = False).reset_index()\n",
    "valuesID.columns = ['ID', 'Count']\n",
    "\n",
    "valuesProductsCategory = df['product_category'].value_counts(dropna = False).reset_index()\n",
    "valuesProductsCategory.columns = ['Product_dategory', 'Count']\n",
    "\n",
    "valuesPurchaseDate = df['purchase_date'].value_counts(dropna = False).reset_index()\n",
    "valuesPurchaseDate.columns = ['Purchase_date', 'Count']"
   ]
  },
  {
   "cell_type": "code",
   "execution_count": 40,
   "id": "4a72eb64",
   "metadata": {},
   "outputs": [
    {
     "data": {
      "text/plain": [
       "Timestamp('2025-09-17 00:00:00')"
      ]
     },
     "execution_count": 40,
     "metadata": {},
     "output_type": "execute_result"
    }
   ],
   "source": [
    "df['purchase_date'] = pd.to_datetime(df['purchase_date'], format = \"%Y-%m-%d\")\n",
    "df['purchase_date'].min()\n",
    "df['purchase_date'].max()\n"
   ]
  }
 ],
 "metadata": {
  "kernelspec": {
   "display_name": ".venvDillan",
   "language": "python",
   "name": "python3"
  },
  "language_info": {
   "codemirror_mode": {
    "name": "ipython",
    "version": 3
   },
   "file_extension": ".py",
   "mimetype": "text/x-python",
   "name": "python",
   "nbconvert_exporter": "python",
   "pygments_lexer": "ipython3",
   "version": "3.12.3"
  }
 },
 "nbformat": 4,
 "nbformat_minor": 5
}
